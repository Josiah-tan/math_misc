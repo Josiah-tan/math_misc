{
  "nbformat": 4,
  "nbformat_minor": 0,
  "metadata": {
    "colab": {
      "name": "sample_stats_1005.ipynb",
      "provenance": [],
      "authorship_tag": "ABX9TyOf68G/NjN+AX5Oezj6E3rk",
      "include_colab_link": true
    },
    "kernelspec": {
      "name": "python3",
      "display_name": "Python 3"
    }
  },
  "cells": [
    {
      "cell_type": "markdown",
      "metadata": {
        "id": "view-in-github",
        "colab_type": "text"
      },
      "source": [
        "<a href=\"https://colab.research.google.com/github/Josiah-tan/math_misc/blob/master/sample_stats_1005.ipynb\" target=\"_parent\"><img src=\"https://colab.research.google.com/assets/colab-badge.svg\" alt=\"Open In Colab\"/></a>"
      ]
    },
    {
      "cell_type": "code",
      "metadata": {
        "colab": {
          "base_uri": "https://localhost:8080/"
        },
        "id": "3VIs_JkBkya3",
        "outputId": "4ed234a4-e8bc-412e-e767-5457c810eb30"
      },
      "source": [
        "# press shift-enter to run this block of code - it imports all the important documents in a space called a \"repository\" needed to run this notebook smoothly\n",
        "import os\n",
        "import sys\n",
        "import shutil\n",
        "\n",
        "repo = \"/content/ez_life/\"\n",
        "sys.path.append(repo) # append a path so that we can access the repository easily\n",
        "\n",
        "try:\n",
        "    shutil.rmtree(repo) # removes existing copied repository if it exists\n",
        "except OSError as e:\n",
        "    pass\n",
        "    #print(\"Error: %s - %s.\" % (e.filename, e.strerror))\n",
        "\n",
        "!git clone https://github.com/Josiah-tan/ez_life # clone the repository into the google colab notebook\n"
      ],
      "execution_count": 1,
      "outputs": [
        {
          "output_type": "stream",
          "text": [
            "Cloning into 'ez_life'...\n",
            "remote: Enumerating objects: 58, done.\u001b[K\n",
            "remote: Counting objects: 100% (58/58), done.\u001b[K\n",
            "remote: Compressing objects: 100% (51/51), done.\u001b[K\n",
            "remote: Total 58 (delta 25), reused 26 (delta 6), pack-reused 0\u001b[K\n",
            "Unpacking objects: 100% (58/58), done.\n"
          ],
          "name": "stdout"
        }
      ]
    },
    {
      "cell_type": "code",
      "metadata": {
        "id": "7KEdYA-klKnB"
      },
      "source": [
        "from ez_life import *"
      ],
      "execution_count": 2,
      "outputs": []
    },
    {
      "cell_type": "code",
      "metadata": {
        "colab": {
          "base_uri": "https://localhost:8080/"
        },
        "id": "75j4Mq0JlOqB",
        "outputId": "9f2f3e9e-f144-4cef-c1c3-262303ca0ea3"
      },
      "source": [
        ""
      ],
      "execution_count": 3,
      "outputs": [
        {
          "output_type": "execute_result",
          "data": {
            "text/plain": [
              "['In',\n",
              " 'JTProperty',\n",
              " 'Out',\n",
              " 'Param2attr',\n",
              " '_',\n",
              " '__',\n",
              " '___',\n",
              " '__builtin__',\n",
              " '__builtins__',\n",
              " '__doc__',\n",
              " '__loader__',\n",
              " '__name__',\n",
              " '__package__',\n",
              " '__spec__',\n",
              " '_dh',\n",
              " '_exit_code',\n",
              " '_i',\n",
              " '_i1',\n",
              " '_i2',\n",
              " '_i3',\n",
              " '_ih',\n",
              " '_ii',\n",
              " '_iii',\n",
              " '_oh',\n",
              " '_sh',\n",
              " 'exit',\n",
              " 'get_ipython',\n",
              " 'jt_property',\n",
              " 'os',\n",
              " 'param2attr',\n",
              " 'quit',\n",
              " 'repo',\n",
              " 'shutil',\n",
              " 'sys']"
            ]
          },
          "metadata": {
            "tags": []
          },
          "execution_count": 3
        }
      ]
    },
    {
      "cell_type": "code",
      "metadata": {
        "id": "rG_CzYrYlPw-"
      },
      "source": [
        ""
      ],
      "execution_count": null,
      "outputs": []
    }
  ]
}